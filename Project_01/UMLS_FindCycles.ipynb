{
 "cells": [
  {
   "cell_type": "code",
   "execution_count": 4,
   "metadata": {},
   "outputs": [],
   "source": [
    "#import library to connect to mysql database\n",
    "import mysql.connector"
   ]
  },
  {
   "cell_type": "code",
   "execution_count": 5,
   "metadata": {},
   "outputs": [
    {
     "name": "stdout",
     "output_type": "stream",
     "text": [
      "<mysql.connector.connection_cext.CMySQLConnection object at 0x0000018B7E2CD340>\n"
     ]
    }
   ],
   "source": [
    "#connect to umls database\n",
    "umls_db = mysql.connector.connect(host='', port='',\n",
    "                            user='', password='', database='')\n",
    "print(umls_db)\n",
    "\n",
    "mycursor = umls_db.cursor(buffered=True)"
   ]
  },
  {
   "cell_type": "code",
   "execution_count": 6,
   "metadata": {},
   "outputs": [],
   "source": [
    "#function to interact with database\n",
    "def fetch_result(sql):\n",
    "    mycursor.execute(sql)\n",
    "    myresult = mycursor.fetchall()\n",
    "    return myresult"
   ]
  },
  {
   "cell_type": "code",
   "execution_count": 7,
   "metadata": {},
   "outputs": [],
   "source": [
    "#functions to write file\n",
    "def write_to_file(data, file_name):\n",
    "    f1 = open(file_name, \"w\")\n",
    "    for i in range(len(data)):\n",
    "        f1.write(str(data[i]) + '\\n')\n",
    "    f1.close()"
   ]
  },
  {
   "cell_type": "code",
   "execution_count": 11,
   "metadata": {},
   "outputs": [],
   "source": [
    "def addEdge(g, node1, node2):\n",
    "    if node1 not in g:\n",
    "        g[node1] = []\n",
    "    if node2 not in g:\n",
    "        g[node2] = []\n",
    "    g[node1].append(node2)\n",
    "\n",
    "def populate_graph(cui_values, g):\n",
    "    for item in cui_values:\n",
    "        if item[0] is not item[1]:\n",
    "            addEdge(g, item[0],item[1])"
   ]
  },
  {
   "cell_type": "code",
   "execution_count": 12,
   "metadata": {},
   "outputs": [],
   "source": [
    "cycles=[]\n",
    "def get_cycles(graph, node, visited, path):\n",
    "    if len(cycles) < 20:\n",
    "        visited[node] = True\n",
    "        path.append(node)\n",
    "        for neighbor in graph[node]:\n",
    "            if neighbor in path:\n",
    "                length = len(path) - path.index(neighbor)\n",
    "                if length >= 3:\n",
    "                    cycles.append(path[path.index(neighbor):])\n",
    "            elif not visited[neighbor]:\n",
    "                get_cycles(graph, neighbor, visited,path)\n",
    "        path.pop()\n",
    "        \n",
    "def find_cycles(graph):\n",
    "    visited = {node: False for node in graph}\n",
    "    for node in graph:\n",
    "         if not visited[node]:\n",
    "            get_cycles(graph, node, visited, [])\n",
    "    return cycles"
   ]
  },
  {
   "cell_type": "code",
   "execution_count": 13,
   "metadata": {},
   "outputs": [],
   "source": [
    "# Write a SQL query to retrieve the data and relationships between the terms\n",
    "sql = (\"SELECT CUI1, CUI2 FROM MRREL WHERE REL='CHD'\")\n",
    "results = fetch_result(sql)\n",
    "g={}"
   ]
  },
  {
   "cell_type": "code",
   "execution_count": 14,
   "metadata": {},
   "outputs": [],
   "source": [
    "populate_graph(results, g)"
   ]
  },
  {
   "cell_type": "code",
   "execution_count": 15,
   "metadata": {},
   "outputs": [],
   "source": [
    "cycles= find_cycles(g)"
   ]
  },
  {
   "cell_type": "code",
   "execution_count": 16,
   "metadata": {},
   "outputs": [],
   "source": [
    "def get_disjoint_lists(lists):\n",
    "    disjoint_lists = []\n",
    "    for i in range(len(lists)):\n",
    "        is_disjoint = True\n",
    "        for j in range(i+1, len(lists)):\n",
    "            if set(lists[i]) & set(lists[j]):\n",
    "                is_disjoint = False\n",
    "                break\n",
    "        if is_disjoint:\n",
    "            disjoint_lists.append(lists[i])\n",
    "            if len(disjoint_lists) == 3:\n",
    "                break\n",
    "    return disjoint_lists"
   ]
  },
  {
   "cell_type": "code",
   "execution_count": 17,
   "metadata": {},
   "outputs": [],
   "source": [
    "cycles= get_disjoint_lists(cycles)"
   ]
  },
  {
   "cell_type": "code",
   "execution_count": 18,
   "metadata": {},
   "outputs": [
    {
     "name": "stdout",
     "output_type": "stream",
     "text": [
      "[['C0437720', 'C0437733', 'C0437737'], ['C0686705', 'C0161016', 'C0232070', 'C0238037'], ['C0042111', 'C0221013', 'C1541840']]\n"
     ]
    }
   ],
   "source": [
    "print(cycles)"
   ]
  },
  {
   "cell_type": "code",
   "execution_count": 19,
   "metadata": {},
   "outputs": [],
   "source": [
    "write_to_file(cycles, \"output.txt\")"
   ]
  }
 ],
 "metadata": {
  "kernelspec": {
   "display_name": "Python 3",
   "language": "python",
   "name": "python3"
  },
  "language_info": {
   "codemirror_mode": {
    "name": "ipython",
    "version": 3
   },
   "file_extension": ".py",
   "mimetype": "text/x-python",
   "name": "python",
   "nbconvert_exporter": "python",
   "pygments_lexer": "ipython3",
   "version": "3.8.5"
  }
 },
 "nbformat": 4,
 "nbformat_minor": 4
}
