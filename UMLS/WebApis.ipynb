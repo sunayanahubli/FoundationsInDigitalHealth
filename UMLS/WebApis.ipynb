{
 "cells": [
  {
   "cell_type": "code",
   "execution_count": 6,
   "metadata": {},
   "outputs": [
    {
     "data": {
      "text/plain": [
       "'\\n    <!DOCTYPE HTML PUBLIC \\\\\"-//IETF//DTD HTML 2.0//EN\\\\\"><html lang=\"ENG\"><head><title>201 Created</title></head><body>\\n    <h1>TGT Created</h1><form action=\"https://utslogin.nlm.nih.gov/cas/v1/api-key/TGT-429111-7ippf4exldm6cm0m-cas\" method=\"POST\">Service:\\n    <input type=\"text\" name=\"service\" value=\"\"><br>\\n    <input type=\"submit\" value=\"Submit\"></form></body></html>\\n    '"
      ]
     },
     "execution_count": 6,
     "metadata": {},
     "output_type": "execute_result"
    }
   ],
   "source": [
    "# Get TGT\n",
    "\n",
    "import requests\n",
    "\n",
    "headers = {\n",
    "    'content-type': 'application/x-www-form-urlencoded',\n",
    "}\n",
    "\n",
    "data = 'apikey=492135f1-42e4-459e-80bc-45cc2a74fa81'\n",
    "\n",
    "response = requests.post('https://utslogin.nlm.nih.gov/cas/v1/api-key', headers=headers, data=data)\n",
    "\n",
    "response.text"
   ]
  },
  {
   "cell_type": "code",
   "execution_count": 8,
   "metadata": {},
   "outputs": [
    {
     "data": {
      "text/plain": [
       "'ST-5605751-7ippf4esldm6dqjv-cas'"
      ]
     },
     "execution_count": 8,
     "metadata": {},
     "output_type": "execute_result"
    }
   ],
   "source": [
    "# Get Service key\n",
    "import requests\n",
    "\n",
    "data = {\n",
    "    'service': 'http://umlsks.nlm.nih.gov',\n",
    "}\n",
    "\n",
    "response = requests.post('https://utslogin.nlm.nih.gov/cas/v1/tickets/TGT-429111-7ippf4exldm6cm0m-cas', data=data)\n",
    "response.text"
   ]
  },
  {
   "cell_type": "code",
   "execution_count": null,
   "metadata": {},
   "outputs": [],
   "source": []
  }
 ],
 "metadata": {
  "kernelspec": {
   "display_name": "Python 3",
   "language": "python",
   "name": "python3"
  },
  "language_info": {
   "codemirror_mode": {
    "name": "ipython",
    "version": 3
   },
   "file_extension": ".py",
   "mimetype": "text/x-python",
   "name": "python",
   "nbconvert_exporter": "python",
   "pygments_lexer": "ipython3",
   "version": "3.8.5"
  }
 },
 "nbformat": 4,
 "nbformat_minor": 4
}
