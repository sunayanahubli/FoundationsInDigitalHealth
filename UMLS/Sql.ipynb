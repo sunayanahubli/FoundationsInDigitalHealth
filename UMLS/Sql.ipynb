{
 "cells": [
  {
   "cell_type": "code",
   "execution_count": null,
   "metadata": {},
   "outputs": [],
   "source": [
    "# !pip install mysql-connector-python"
   ]
  },
  {
   "cell_type": "code",
   "execution_count": null,
   "metadata": {},
   "outputs": [],
   "source": [
    "import mysql.connector"
   ]
  },
  {
   "cell_type": "code",
   "execution_count": null,
   "metadata": {},
   "outputs": [],
   "source": [
    "umls_db = mysql.connector.connect(\n",
    "      host='localhost',\n",
    "      user='',\n",
    "      password='',\n",
    "      database=''\n",
    "    )\n",
    "print(umls_db)\n",
    "\n",
    "mycursor = umls_db.cursor(buffered=True)"
   ]
  },
  {
   "cell_type": "code",
   "execution_count": null,
   "metadata": {},
   "outputs": [],
   "source": [
    "def fetch_result(sql):\n",
    "    mycursor.execute(sql)\n",
    "    myresult = mycursor.fetchall()\n",
    "    for x in myresult:\n",
    "        print(x)\n",
    "    \n",
    "        \n",
    "def write_to_file(query, file_name):\n",
    "    mycursor.execute(query)\n",
    "    myresult = mycursor.fetchall()\n",
    "    f1 = open(file_name, \"w\")\n",
    "    for i in range(len(myresult)):\n",
    "        f1.write(str(myresult[i]) + '\\n')\n",
    "    f1.close()"
   ]
  },
  {
   "cell_type": "code",
   "execution_count": null,
   "metadata": {},
   "outputs": [],
   "source": [
    "# fetch_result(\"SHOW TABLES\")"
   ]
  },
  {
   "cell_type": "code",
   "execution_count": null,
   "metadata": {},
   "outputs": [],
   "source": [
    "# fetch_result(\"SELECT * FROM mrconso LIMIT 5\")"
   ]
  },
  {
   "cell_type": "code",
   "execution_count": null,
   "metadata": {},
   "outputs": [],
   "source": [
    "# fetch_result( \"SELECT * FROM mrhier WHERE SAB='SNOMEDCT_US' LIMIT 5\")"
   ]
  },
  {
   "cell_type": "code",
   "execution_count": null,
   "metadata": {},
   "outputs": [],
   "source": [
    "# write_to_file(\"SELECT CUI FROM mrhier WHERE SAB='SNOMEDCT_US' and RELA='isa'\", \"test.txt\")"
   ]
  },
  {
   "cell_type": "code",
   "execution_count": null,
   "metadata": {},
   "outputs": [],
   "source": [
    "    \n",
    "# def find_loop(cui_value):\n",
    "#     # cui_value='C0002871'\n",
    "#     query = (\"SELECT CUI1, CUI2 FROM mrrel WHERE CUI1= '{}'\").format(cui_value)\n",
    "#     print(query)\n",
    "#     mycursor.execute(query)\n",
    "\n",
    "#     #Storing the relaed CUIs\n",
    "#     relationships = {}\n",
    "#     for term1, term2 in mycursor:\n",
    "#         if term1 not in relationships:\n",
    "#             relationships[term1] = []\n",
    "#         relationships[term1].append(term2)\n",
    "        \n",
    "#     print(\"List Of CUIs\")\n",
    "#     for i in relationships:\n",
    "#         print(relationships[i])\n",
    "\n",
    "#     visited = set()\n",
    "#     def DFS(node, parent):\n",
    "#         print((\"Visiting CUI1={}\").format(node))\n",
    "#         visited.add(node)\n",
    "#         for related_node in relationships.get(node, []):\n",
    "#             if related_node in visited and related_node != parent:\n",
    "#                 print(\"-------------Loop found-------------- \\n:\", node, related_node)\n",
    "#                 return True\n",
    "#             elif related_node not in visited:\n",
    "#                 found = DFS(related_node, node)\n",
    "#                 if found:\n",
    "#                     return True\n",
    "#         return False\n",
    "\n",
    "#     for node in relationships.keys():\n",
    "#         print((\"Checking node in relationships.keys={}\").format(node))\n",
    "#         if node not in visited:\n",
    "#             DFS(node, None)\n"
   ]
  },
  {
   "cell_type": "code",
   "execution_count": null,
   "metadata": {},
   "outputs": [],
   "source": [
    "\n",
    "# Python program to detect cycle \n",
    "# in a graph\n",
    "  \n",
    "from collections import defaultdict\n",
    "  \n",
    "class Graph():\n",
    "    def __init__(self, vertices):\n",
    "        self.graph = defaultdict(list)\n",
    "        self.V = vertices\n",
    "  \n",
    "    def addEdge(self, node1, node2):\n",
    "        if node1 not in self.graph:\n",
    "            self.graph[node1] = []\n",
    "        if node2 not in self.graph:\n",
    "            self.graph[node2] = []\n",
    "\n",
    "        self.graph[node1].append(node2)\n",
    "  \n",
    "    def isCyclicUtil(self, v, visited, recStack):\n",
    "  \n",
    "        # Mark current node as visited and \n",
    "        # adds to recursion stack\n",
    "        visited[v] = True\n",
    "        recStack[v] = True\n",
    "  \n",
    "        # Recur for all neighbours\n",
    "        # if any neighbour is visited and in \n",
    "        # recStack then graph is cyclic\n",
    "        for neighbour in self.graph[v]:\n",
    "            if visited[neighbour] == False:\n",
    "                if self.isCyclicUtil(neighbour, visited, recStack) == True:\n",
    "                    return True\n",
    "            elif recStack[neighbour] == True:\n",
    "                return True\n",
    "  \n",
    "        # The node needs to be poped from \n",
    "        # recursion stack before function ends\n",
    "        recStack[v] = False\n",
    "        return False\n",
    "  \n",
    "    # Returns true if graph is cyclic else false\n",
    "    def isCyclic(self):\n",
    "        visited = [False] * self.V\n",
    "        recStack = [False] * self.V\n",
    "        for node in range(self.V):\n",
    "            if visited[node] == False:\n",
    "                if self.isCyclicUtil(node, visited, recStack) == True:\n",
    "                    return True\n",
    "        return False\n",
    "    \n",
    "    def printGraph(self):\n",
    "        for source, destination in self.graph.items():\n",
    "            print(f\"{source}-->{destination}\")"
   ]
  },
  {
   "cell_type": "code",
   "execution_count": null,
   "metadata": {},
   "outputs": [],
   "source": [
    "def populate_graph(cui_values,g):\n",
    "    for item in results:\n",
    "        print((\"item:{}, {} \").format(item[0], item[1] ) )\n",
    "        if item[0] is not item[1]:\n",
    "             g.addEdge(item[0],item[1])\n",
    "    print(\"Done!\")"
   ]
  },
  {
   "cell_type": "code",
   "execution_count": null,
   "metadata": {},
   "outputs": [],
   "source": [
    "# Write a SQL query to retrieve the data and relationships between the terms\n",
    "query = (\"SELECT CUI1, CUI2 FROM mrrel WHERE REL='CHD' and sab='SNOMEDCT_US'\")\n",
    "mycursor.execute(query)\n",
    "g=Graph(10000000)\n",
    "results = mycursor.fetchall()\n",
    "populate_graph(results, g)"
   ]
  },
  {
   "cell_type": "code",
   "execution_count": null,
   "metadata": {},
   "outputs": [],
   "source": [
    "g.printGraph()"
   ]
  },
  {
   "cell_type": "code",
   "execution_count": null,
   "metadata": {},
   "outputs": [],
   "source": []
  }
 ],
 "metadata": {
  "kernelspec": {
   "display_name": "Python 3",
   "language": "python",
   "name": "python3"
  },
  "language_info": {
   "codemirror_mode": {
    "name": "ipython",
    "version": 3
   },
   "file_extension": ".py",
   "mimetype": "text/x-python",
   "name": "python",
   "nbconvert_exporter": "python",
   "pygments_lexer": "ipython3",
   "version": "3.8.5"
  }
 },
 "nbformat": 4,
 "nbformat_minor": 4
}
