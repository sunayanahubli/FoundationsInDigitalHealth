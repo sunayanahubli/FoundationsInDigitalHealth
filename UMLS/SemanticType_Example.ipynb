{
 "cells": [
  {
   "cell_type": "code",
   "execution_count": 1,
   "metadata": {},
   "outputs": [
    {
     "name": "stderr",
     "output_type": "stream",
     "text": [
      "usage: ipykernel_launcher.py [-h] -k APIKEY [-v VERSION] -o OUTPUTFILE [-s SABS] -i INPUTFILE [-t SEARCHTYPE]\n",
      "ipykernel_launcher.py: error: the following arguments are required: -k/--apikey, -o/--outputfile, -i/--inputfile\n"
     ]
    },
    {
     "ename": "SystemExit",
     "evalue": "2",
     "output_type": "error",
     "traceback": [
      "An exception has occurred, use %tb to see the full traceback.\n",
      "\u001b[1;31mSystemExit\u001b[0m\u001b[1;31m:\u001b[0m 2\n"
     ]
    },
    {
     "name": "stderr",
     "output_type": "stream",
     "text": [
      "C:\\ProgramData\\Anaconda3\\lib\\site-packages\\IPython\\core\\interactiveshell.py:3426: UserWarning: To exit: use 'exit', 'quit', or Ctrl-D.\n",
      "  warn(\"To exit: use 'exit', 'quit', or Ctrl-D.\", stacklevel=1)\n"
     ]
    }
   ],
   "source": [
    "import requests\n",
    "import argparse\n",
    "#import json\n",
    "''' The standard Python library argparse is used to incorporate the parsing of command line arguments. \n",
    "Instead of manually setting variables in the code, argparse adds flexibility and reusability by allowing user input values to be parsed and utilized.'''\n",
    "\n",
    "#initialize parser\n",
    "parser = argparse.ArgumentParser(description='process user given parameters')\n",
    "\n",
    "#add arguments\n",
    "parser.add_argument('-k', '--apikey', required = True, dest = 'apikey', help = 'enter api key from your UTS Profile')\n",
    "parser.add_argument('-v', '--version', required =  False, dest='version', default = 'current', help = 'enter version example-2015AA')\n",
    "parser.add_argument('-o', '--outputfile', required = True, dest = 'outputfile', help = 'enter a name for your output file')\n",
    "parser.add_argument('-s', '--sabs', required = False, dest='sabs',help = 'enter a comma-separated list of vocabularies, like MSH, SNOMEDCT_US, or RXNORM')\n",
    "parser.add_argument('-i', '--inputfile', required = True, dest = 'inputfile', help = 'enter a name for your input file')\n",
    "parser.add_argument('-t', '--searchtype', required = False, dest = 'searchtype', help = 'enter a searchtype')\n",
    "\n",
    "#parse the arguments\n",
    "args = parser.parse_args()\n",
    "apikey = args.apikey\n",
    "version = args.version\n",
    "outputfile = args.outputfile\n",
    "inputfile = args.inputfile\n",
    "sabs = args.sabs\n",
    "searchtype = args.searchtype\n",
    "\n",
    "base_uri = 'https://uts-ws.nlm.nih.gov'\n",
    "string_list = []\n",
    "string_cui_dict = {}\n",
    "\n",
    "with open(inputfile) as f:\n",
    "    for line in f:\n",
    "        if line.isspace() is False:    \n",
    "            strings = line.strip()\n",
    "            string_list.append(strings)\n",
    "        #print(string_list)\n",
    "        else:\n",
    "            continue\n",
    "\n",
    "with open(outputfile, 'w') as o:\n",
    "    for string in string_list:\n",
    "        page = 0\n",
    "        temp_list = []\n",
    "        \n",
    "        while True:\n",
    "            page +=1\n",
    "            path = '/search/'+version\n",
    "            query = {'string':string, 'apiKey':apikey, 'rootSource':sabs, 'searchType':searchtype, 'pageNumber':page}\n",
    "            r1 = requests.get(base_uri+path, params=query)\n",
    "            r1.encoding = 'utf-8'\n",
    "    \n",
    "            r = r1.json()\n",
    "\n",
    "            try:\n",
    "                res1 = ([r['result']])[0]['results']\n",
    "            except KeyError as e:\n",
    "                print(r1.reason)\n",
    "                print(r1.status_code)\n",
    "                raise(e)\n",
    "                \n",
    "            if len(res1) == 0:\n",
    "                if page == 1:\n",
    "                    print('No results found for'+ string + '\\n')\n",
    "                    break\n",
    "                else:\n",
    "                    break\n",
    "            \n",
    "            for item in res1:\n",
    "                temp_list.append(item['ui'])\n",
    "            \n",
    "            string_cui_dict[string] = [temp_list]\n",
    "\n",
    "    #print(string_cui_dict)\n",
    "    \n",
    "    #output = []\n",
    "    \n",
    "    for k,v in string_cui_dict.items():\n",
    "        for alist in v:\n",
    "            for acui in alist:\n",
    "                path = '/content/'+version+'/CUI/'+acui\n",
    "                query = {'apiKey':apikey}\n",
    "                r2 = requests.get(base_uri+path, params=query)\n",
    "                res2 = r2.json()\n",
    "            \n",
    "                results = res2['result']\n",
    "                o.write('SEARCH STRING: ' + k + '\\n')\n",
    "                o.write('UI: ' + results['ui'] + '\\n' + 'Name: ' + results['name'] + '\\n' + 'Semantic Type: ' + results['semanticTypes'][0]['name'] + '\\n' + 'Semantic Type URI: ' + results['semanticTypes'][0]['uri'] + '\\n' + '\\n')\n",
    "\n",
    "#For JSON output, comment out the two previous lines of code, un-comment out the below and \"output = []\" line above, and import json package at top\n",
    "    \n",
    "                #ui = results['ui']\n",
    "                #name = results['name']\n",
    "                #stype = results['semanticTypes']\n",
    "        \n",
    "                #record = {\n",
    "                #    \"ui\": ui,\n",
    "                #    \"name\": name,\n",
    "                #    \"semanticTypes\": stype\n",
    "                #    }\n",
    "                #output.append(record)   \n",
    "    \n",
    "    #json_output = json.dumps(output, indent=4)\n",
    "    #o.write(json_output)"
   ]
  },
  {
   "cell_type": "code",
   "execution_count": null,
   "metadata": {},
   "outputs": [],
   "source": []
  }
 ],
 "metadata": {
  "kernelspec": {
   "display_name": "Python 3",
   "language": "python",
   "name": "python3"
  },
  "language_info": {
   "codemirror_mode": {
    "name": "ipython",
    "version": 3
   },
   "file_extension": ".py",
   "mimetype": "text/x-python",
   "name": "python",
   "nbconvert_exporter": "python",
   "pygments_lexer": "ipython3",
   "version": "3.8.5"
  }
 },
 "nbformat": 4,
 "nbformat_minor": 4
}
