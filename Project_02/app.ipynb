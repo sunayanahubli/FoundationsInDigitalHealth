{
 "cells": [
  {
   "cell_type": "code",
   "execution_count": 107,
   "id": "a29a2edb",
   "metadata": {},
   "outputs": [],
   "source": [
    "#import library to connect to mysql database\n",
    "import mysql.connector"
   ]
  },
  {
   "cell_type": "markdown",
   "id": "64a745be",
   "metadata": {},
   "source": [
    "### Connects to UMLS DB 2020 and fetches the synonyms from CHV table (note: Connect to Umass lowell Global Protect VPN)"
   ]
  },
  {
   "cell_type": "code",
   "execution_count": 108,
   "id": "ec09a7b1",
   "metadata": {},
   "outputs": [
    {
     "name": "stdout",
     "output_type": "stream",
     "text": [
      "<mysql.connector.connection.MySQLConnection object at 0x00000214918EE7F0>\n"
     ]
    }
   ],
   "source": [
    "import requests\n",
    "import argparse\n",
    "\n",
    "#Enter the databse details below\n",
    "umls_db = mysql.connector.connect(host='', port='',\n",
    "                                user='', password='', database='')\n",
    "print(umls_db)\n",
    "def GetSynonms(search_text):\n",
    "    mycursor = umls_db.cursor(buffered=True)\n",
    "\n",
    "    sql = (f\"SELECT CUI FROM MRCONSO Where Sab='CHV' and STR='{search_text}'\")\n",
    "    \n",
    "    mycursor.execute(sql)\n",
    "    results = mycursor.fetchall()\n",
    "    field_names = [ col[0] for col in mycursor.description]\n",
    "    \n",
    "    a=(results[0][0])\n",
    "    sql = (f\"SELECT STR FROM MRCONSO Where CUI='{a}' and Sab='CHV' LIMIT 30\")\n",
    "\n",
    "    mycursor.execute(sql)\n",
    "    results = mycursor.fetchall()\n",
    "    \n",
    "    return results"
   ]
  },
  {
   "cell_type": "markdown",
   "id": "b328cc51",
   "metadata": {},
   "source": [
    "### Create Flask app for Web search"
   ]
  },
  {
   "cell_type": "code",
   "execution_count": null,
   "id": "5f74f24b",
   "metadata": {
    "scrolled": true
   },
   "outputs": [
    {
     "name": "stdout",
     "output_type": "stream",
     "text": [
      " * Serving Flask app \"__main__\" (lazy loading)\n",
      " * Environment: production\n",
      "\u001b[31m   WARNING: This is a development server. Do not use it in a production deployment.\u001b[0m\n",
      "\u001b[2m   Use a production WSGI server instead.\u001b[0m\n",
      " * Debug mode: on\n"
     ]
    },
    {
     "name": "stderr",
     "output_type": "stream",
     "text": [
      " * Running on http://127.0.0.1:5000/ (Press CTRL+C to quit)\n",
      "127.0.0.1 - - [15/Mar/2023 03:39:03] \"GET /%7B%7B%20url_for('static',%20filename='styles.css')%20%7D%7D HTTP/1.1\" 404 -\n",
      "127.0.0.1 - - [15/Mar/2023 03:39:15] \"POST /Search HTTP/1.1\" 200 -\n"
     ]
    },
    {
     "name": "stdout",
     "output_type": "stream",
     "text": [
      "expiry_flag_input not setBoth\n",
      " chartdate:[2110-01-01T00:00:00Z TO 2120-01-01T00:00:00Z]\n"
     ]
    },
    {
     "name": "stderr",
     "output_type": "stream",
     "text": [
      "127.0.0.1 - - [15/Mar/2023 03:40:23] \"POST /Search HTTP/1.1\" 200 -\n"
     ]
    },
    {
     "name": "stdout",
     "output_type": "stream",
     "text": [
      "<class 'list'>\n",
      "expiry_flag_input not setBoth\n",
      " text:brain\\ malignant\\ tumors text:malignant\\ brain\\ tumor text:brain\\ cancer text:brain\\ ca text:ca\\ brain text:cancer\\ of\\ the\\ brain text:brain\\ cancers text:brain\\ malignant\\ tumors text:malignant\\ neoplasm\\ of\\ brain text:cancer\\ of\\ brain text:malignant\\ neoplasm\\ of\\ brain\n"
     ]
    }
   ],
   "source": [
    "import pysolr\n",
    "from flask import Flask, jsonify, request\n",
    "from datetime import datetime\n",
    "\n",
    "# Connect to Solr\n",
    "solr = pysolr.Solr('http://localhost:8983/solr/mimic3/', timeout=100)\n",
    "\n",
    "# Create Flask app\n",
    "app = Flask(__name__)\n",
    "\n",
    "# Route to load web page\n",
    "@app.route('/')\n",
    "def index():\n",
    "    print('index function called')\n",
    "    return app.send_static_file('index.html')\n",
    "\n",
    "# Route to Search and display results\n",
    "@app.route('/Search', methods=['POST'])\n",
    "def Search():\n",
    "    query=''\n",
    "    synonms=''\n",
    "    # Get all inputs\n",
    "    search_text = request.form.get('query', '')\n",
    "    expiry_flag_input = request.form.get('expiry_flag')\n",
    "    start_date = request.form.get('start_date','All')\n",
    "    end_date = request.form.get('end_date','All')\n",
    "    icd_codes = request.form.get('icd_codes','All') \n",
    "    \n",
    "    # Get synonyms for text enterd by user\n",
    "    if(search_text !=''):\n",
    "        synonms= GetSynonms(search_text)  \n",
    "        print(type(synonms))\n",
    "        synonms_list=[]\n",
    "        for s in synonms:\n",
    "          synonms_list.append((s)[0].replace(' ', '\\\\ '))\n",
    "        query = \" text:\".join([r for r in synonms_list]) \n",
    "        query = \" text:\"+query\n",
    "\n",
    "    # Update query based on Hospital Expiry Flag entered by user\n",
    "    if expiry_flag_input=='Died':\n",
    "        query= query +\" AND expiry_flag: \"+ str(1)\n",
    "    elif expiry_flag_input=='Survived':\n",
    "        query= query+\" AND expiry_flag: \"+ str(0)\n",
    "    else:\n",
    "        print('expiry_flag_input not set'+ expiry_flag_input)\n",
    "    \n",
    "\n",
    "    # Update query based on icd_codes entered by user \n",
    "    if(icd_codes!=''):\n",
    "        icd_list=\"\"\n",
    "        icd_list=((icd_codes).replace(',', ' AND icd_codes:'))\n",
    "        if (query!=\"\"):\n",
    "            query= query+\" AND icd_codes:\"+ str(icd_list)\n",
    "        else:\n",
    "            query= query+\" icd_codes:\"+ str(icd_list)\n",
    "        print(icd_codes)\n",
    "        \n",
    "     # Update query based on start and end date entered by user   \n",
    "\n",
    "    if(start_date!='' and end_date!=''):\n",
    "        start_date = datetime.strptime(start_date, '%Y-%m-%d')\n",
    "        end_date = datetime.strptime(end_date, '%Y-%m-%d')\n",
    "        if (query!=\"\"):\n",
    "            date_str= f' AND chartdate:[{start_date.isoformat()}Z TO {end_date.isoformat()}Z]'\n",
    "        else:\n",
    "            date_str= f' chartdate:[{start_date.isoformat()}Z TO {end_date.isoformat()}Z]'\n",
    "        query=query+date_str\n",
    "    elif(start_date!=''):\n",
    "            start_date = datetime.strptime(start_date, '%Y-%m-%d')\n",
    "            if (query!=\"\"):\n",
    "                    date_str= f' AND chartdate:[{start_date.isoformat()}Z TO *]'\n",
    "            else:\n",
    "                date_str= f' chartdate:[{start_date.isoformat()}Z TO *]'\n",
    "            query=query+date_str\n",
    "    elif(end_date!=''):      \n",
    "        end_date = datetime.strptime(end_date, '%Y-%m-%d')\n",
    "        if (query!=\"\"):\n",
    "            date_str= f' AND chartdate:[* TO {end_date.isoformat()}Z]'\n",
    "        else:\n",
    "            date_str= f' chartdate:[* TO {end_date.isoformat()}Z]'\n",
    "        query=query+date_str\n",
    "\n",
    "    # Add params for Solr search\n",
    "    params = {\n",
    "    'hl': 'true',\n",
    "    'hl.simple.pre': '<strong>',\n",
    "    'hl.simple.post': '</strong>',\n",
    "    'hl.fl': 'text',\n",
    "    'hl.snippets': 3,\n",
    "    'rows': 20\n",
    "    }\n",
    "    \n",
    "    print(query)\n",
    "    # Perform Solr search\n",
    "    results = solr.search(query, **params)\n",
    "    id_list=[]\n",
    "    \n",
    "     # store results from solr search into needed format and send it to be displayed\n",
    "    if len(results)==0:\n",
    "        results= range(0,1)\n",
    "        data = [{'id': '',\n",
    "             'text':'',\n",
    "             'category': '',\n",
    "             'hadm_id': '',\n",
    "             'expiry_flag': '',\n",
    "             'icd_codes': '',\n",
    "             'chartdate':'',\n",
    "             'synonyms':  '',\n",
    "             'Num_results':\"No Notes found, enter different query\",\n",
    "             'solr_query': query,\n",
    "              'id_list': 'NA'\n",
    "            \n",
    "            } for result in results]\n",
    "    else:\n",
    "        for result in results:\n",
    "            id_list.append(result['id'])\n",
    "            if len(id_list)==10:\n",
    "                break\n",
    "        data = [{'id': result['id'],\n",
    "         'text': result['text'],\n",
    "         'category': result['category'],\n",
    "         'hadm_id': result['hadm_id'],\n",
    "         'expiry_flag': result['expiry_flag'],\n",
    "         'icd_codes': result['icd_codes'],\n",
    "         'chartdate':result['chartdate'],\n",
    "         'synonyms':  synonms,\n",
    "         'Num_results':len(results),\n",
    "         'solr_query': query,\n",
    "         'id_list': id_list\n",
    "        } for result in results]\n",
    "    return  jsonify(data)\n",
    "\n",
    "if __name__ == '__main__':\n",
    "    app.run(debug=True, use_reloader=False)"
   ]
  },
  {
   "cell_type": "code",
   "execution_count": null,
   "id": "91aca015",
   "metadata": {},
   "outputs": [],
   "source": []
  },
  {
   "cell_type": "code",
   "execution_count": null,
   "id": "fded2ce8",
   "metadata": {},
   "outputs": [],
   "source": []
  }
 ],
 "metadata": {
  "kernelspec": {
   "display_name": "Python 3 (ipykernel)",
   "language": "python",
   "name": "python3"
  },
  "language_info": {
   "codemirror_mode": {
    "name": "ipython",
    "version": 3
   },
   "file_extension": ".py",
   "mimetype": "text/x-python",
   "name": "python",
   "nbconvert_exporter": "python",
   "pygments_lexer": "ipython3",
   "version": "3.9.13"
  }
 },
 "nbformat": 4,
 "nbformat_minor": 5
}
