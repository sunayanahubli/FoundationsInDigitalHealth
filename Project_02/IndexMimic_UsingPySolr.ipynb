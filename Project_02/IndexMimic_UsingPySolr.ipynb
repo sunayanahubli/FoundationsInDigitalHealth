{
 "cells": [
  {
   "cell_type": "code",
   "execution_count": 23,
   "id": "46f3d6a2",
   "metadata": {},
   "outputs": [
    {
     "name": "stderr",
     "output_type": "stream",
     "text": [
      "C:\\Users\\91903\\AppData\\Local\\Temp\\ipykernel_772\\3343117998.py:8: DtypeWarning: Columns (4,5) have mixed types. Specify dtype option on import or set low_memory=False.\n",
      "  df = pd.read_csv('C:/Content/Mimicdb/noteevents.csv')\n"
     ]
    }
   ],
   "source": [
    "import pysolr\n",
    "import pandas as pd\n",
    "\n",
    "# Load noteevents.csv file\n",
    "df = pd.read_csv('C:/Content/Mimicdb/noteevents.csv')\n",
    "\n",
    "# Load admissions.csv file\n",
    "df_pats = pd.read_csv('C:/Content/Mimicdb/admissions.csv')\n",
    "\n",
    "# Load DIAGNOSES_ICD file\n",
    "df_icd = pd.read_csv('C:/Content/Mimicdb/DIAGNOSES_ICD.csv')\n",
    "\n",
    "# Filter only 'Discharge summary' notes\n",
    "df = df[df['CATEGORY'] == 'Discharge summary']\n"
   ]
  },
  {
   "cell_type": "code",
   "execution_count": 25,
   "id": "ea229cdb",
   "metadata": {},
   "outputs": [],
   "source": [
    "# Index the files to get needed fields\n",
    "docs=[]\n",
    "for index, row in df.iterrows():  \n",
    "    hadm_id = int(row['HADM_ID'])\n",
    "    if hadm_id not in df_pats['HADM_ID'].values:\n",
    "    # handle case when ROW_ID is not present in df_pats\n",
    "        expire_flag = 3  # set a default value\n",
    "    else:\n",
    "        expire_flag = df_pats.loc[df_pats['HADM_ID'] == hadm_id, 'HOSPITAL_EXPIRE_FLAG'].values[0]\n",
    "\n",
    "    if hadm_id not in df_icd['HADM_ID'].values:\n",
    "    # handle case when ROW_ID is not present in df_pats\n",
    "        icd_codes = ['None']  # set a default value\n",
    "    else:\n",
    "        icd_codes = []\n",
    "        for icd_index in df_icd[df_icd['HADM_ID'] == hadm_id].index:\n",
    "            icd_code = df_icd.loc[icd_index, 'ICD9_CODE']\n",
    "            icd_codes.append(str (icd_code))\n",
    "\n",
    "    icd_str=' '.join(icd_codes)\n",
    "    doc = {\n",
    "        'id': row['ROW_ID'],\n",
    "        'hadm_id': row['HADM_ID'],\n",
    "        'chartdate': row['CHARTDATE'],\n",
    "        'category': row['CATEGORY'],\n",
    "         'icd_codes': str(icd_str) ,\n",
    "        'expiry_flag': str(expire_flag),\n",
    "        'text': row['TEXT']\n",
    "        \n",
    "    }\n",
    "    docs.append(doc)"
   ]
  },
  {
   "cell_type": "code",
   "execution_count": 26,
   "id": "211ecc2b",
   "metadata": {},
   "outputs": [
    {
     "data": {
      "text/plain": [
       "'<?xml version=\"1.0\" encoding=\"UTF-8\"?>\\n<response>\\n\\n<lst name=\"responseHeader\">\\n  <int name=\"status\">0</int>\\n  <int name=\"QTime\">2804</int>\\n</lst>\\n</response>\\n'"
      ]
     },
     "execution_count": 26,
     "metadata": {},
     "output_type": "execute_result"
    }
   ],
   "source": [
    "# Connect to Solr core\n",
    "\n",
    "solr = pysolr.Solr('http://localhost:8983/solr/mimic3/', timeout=100)\n",
    "# Add documents to Solr index\n",
    "solr.add(docs)\n",
    "\n",
    "# Commit changes to Solr index\n",
    "solr.commit()"
   ]
  }
 ],
 "metadata": {
  "kernelspec": {
   "display_name": "Python 3 (ipykernel)",
   "language": "python",
   "name": "python3"
  },
  "language_info": {
   "codemirror_mode": {
    "name": "ipython",
    "version": 3
   },
   "file_extension": ".py",
   "mimetype": "text/x-python",
   "name": "python",
   "nbconvert_exporter": "python",
   "pygments_lexer": "ipython3",
   "version": "3.9.13"
  }
 },
 "nbformat": 4,
 "nbformat_minor": 5
}
